{
  "nbformat": 4,
  "nbformat_minor": 0,
  "metadata": {
    "colab": {
      "provenance": []
    },
    "kernelspec": {
      "name": "python3",
      "display_name": "Python 3"
    },
    "language_info": {
      "name": "python"
    }
  },
  "cells": [
    {
      "cell_type": "markdown",
      "source": [
        "Tarea 1"
      ],
      "metadata": {
        "id": "ToOV24YG7xUd"
      }
    },
    {
      "cell_type": "markdown",
      "source": [
        "1._Crea un bucle para obtener el promedio de todos los elementos que se encuentran en las siguientes listas:"
      ],
      "metadata": {
        "id": "xdPLciij71-C"
      }
    },
    {
      "cell_type": "code",
      "source": [
        "L1=[7.2,7.8,6.8,8.0,None,'8.2',5.6,8.2,7.7,7.5,None,5.8]\n",
        "L2=['6.8',None,6.8,6.1,7.9,9.4,None]\n",
        "L3=[8.5,'9.0',None,7.7]"
      ],
      "metadata": {
        "id": "ogu9dvTwc-C4"
      },
      "execution_count": 1,
      "outputs": []
    },
    {
      "cell_type": "code",
      "source": [
        "lista=L1+L2+L3\n",
        "print(lista)"
      ],
      "metadata": {
        "colab": {
          "base_uri": "https://localhost:8080/"
        },
        "id": "ZC7EvXfodSME",
        "outputId": "d0c28d4c-a1cd-48bf-a4b4-7a6ab35b2cde"
      },
      "execution_count": 2,
      "outputs": [
        {
          "output_type": "stream",
          "name": "stdout",
          "text": [
            "[7.2, 7.8, 6.8, 8.0, None, '8.2', 5.6, 8.2, 7.7, 7.5, None, 5.8, '6.8', None, 6.8, 6.1, 7.9, 9.4, None, 8.5, '9.0', None, 7.7]\n"
          ]
        }
      ]
    },
    {
      "cell_type": "code",
      "execution_count": 3,
      "metadata": {
        "colab": {
          "base_uri": "https://localhost:8080/"
        },
        "id": "Fvxcj0fec0aG",
        "outputId": "643867d0-a890-4ee7-9e3e-3ddbf1eb7ef5"
      },
      "outputs": [
        {
          "output_type": "stream",
          "name": "stdout",
          "text": [
            "[7.2, 7.8, 6.8, 8.0, '8.2', 5.6, 8.2, 7.7, 7.5, 5.8, '6.8', 6.8, 6.1, 7.9, 9.4, 8.5, '9.0', 7.7]\n"
          ]
        }
      ],
      "source": [
        "\n",
        "nueva = []\n",
        "for i in lista:\n",
        "    if i is not None:\n",
        "        nueva.append(i)\n",
        "\n",
        "print(nueva)"
      ]
    },
    {
      "cell_type": "code",
      "source": [
        "nueva.remove('8.2')"
      ],
      "metadata": {
        "id": "WYe8Pcejc4xj"
      },
      "execution_count": 4,
      "outputs": []
    },
    {
      "cell_type": "code",
      "source": [
        "nueva.remove('6.8')"
      ],
      "metadata": {
        "id": "yqI3Q8-OfNtV"
      },
      "execution_count": 5,
      "outputs": []
    },
    {
      "cell_type": "code",
      "source": [
        "nueva.remove('9.0')"
      ],
      "metadata": {
        "id": "oyGPRvKhfiHB"
      },
      "execution_count": 6,
      "outputs": []
    },
    {
      "cell_type": "code",
      "source": [
        "nueva.append(6.8)\n",
        "nueva.append(8.2)\n",
        "nueva.append(9.0)"
      ],
      "metadata": {
        "id": "RF8R2VodgshZ"
      },
      "execution_count": 7,
      "outputs": []
    },
    {
      "cell_type": "code",
      "source": [
        "nueva.sort()"
      ],
      "metadata": {
        "id": "jELzWgFifl27"
      },
      "execution_count": 8,
      "outputs": []
    },
    {
      "cell_type": "code",
      "source": [
        "nueva"
      ],
      "metadata": {
        "colab": {
          "base_uri": "https://localhost:8080/"
        },
        "id": "_HUeJ-1GfpST",
        "outputId": "d23ce8b7-716f-4be0-811d-a1f54ead0df3"
      },
      "execution_count": 9,
      "outputs": [
        {
          "output_type": "execute_result",
          "data": {
            "text/plain": [
              "[5.6,\n",
              " 5.8,\n",
              " 6.1,\n",
              " 6.8,\n",
              " 6.8,\n",
              " 6.8,\n",
              " 7.2,\n",
              " 7.5,\n",
              " 7.7,\n",
              " 7.7,\n",
              " 7.8,\n",
              " 7.9,\n",
              " 8.0,\n",
              " 8.2,\n",
              " 8.2,\n",
              " 8.5,\n",
              " 9.0,\n",
              " 9.4]"
            ]
          },
          "metadata": {},
          "execution_count": 9
        }
      ]
    },
    {
      "cell_type": "code",
      "source": [
        "n=len(nueva)\n",
        "n"
      ],
      "metadata": {
        "colab": {
          "base_uri": "https://localhost:8080/"
        },
        "id": "A4usPJ1cgbbn",
        "outputId": "a27436d9-e822-4036-c5fe-4fec0883acd0"
      },
      "execution_count": 10,
      "outputs": [
        {
          "output_type": "execute_result",
          "data": {
            "text/plain": [
              "18"
            ]
          },
          "metadata": {},
          "execution_count": 10
        }
      ]
    },
    {
      "cell_type": "code",
      "source": [
        "suma_total = 0\n",
        "\n",
        "for i in nueva:\n",
        "   if i is None:continue\n",
        "   suma_total += i\n",
        "\n",
        "   promedio = suma_total / len(nueva)\n",
        "\n",
        "print(promedio)"
      ],
      "metadata": {
        "colab": {
          "base_uri": "https://localhost:8080/"
        },
        "id": "i6w0yrso8lQT",
        "outputId": "a0659ceb-efe3-49d1-a996-a1642e759986"
      },
      "execution_count": 19,
      "outputs": [
        {
          "output_type": "stream",
          "name": "stdout",
          "text": [
            "7.5\n"
          ]
        }
      ]
    },
    {
      "cell_type": "markdown",
      "source": [
        "2._Crea un bucle que divida en 3 listas del mismo tamaño a los elementos de las listas anteriores ordenados de menor a mayor."
      ],
      "metadata": {
        "id": "-eDZdd_C9A0K"
      }
    },
    {
      "cell_type": "code",
      "source": [
        "cad=n/3\n",
        "cad"
      ],
      "metadata": {
        "colab": {
          "base_uri": "https://localhost:8080/"
        },
        "id": "Z7c5-51Hglqm",
        "outputId": "bc1e402e-315b-4660-d003-6387f4744a4c"
      },
      "execution_count": 11,
      "outputs": [
        {
          "output_type": "execute_result",
          "data": {
            "text/plain": [
              "6.0"
            ]
          },
          "metadata": {},
          "execution_count": 11
        }
      ]
    },
    {
      "cell_type": "code",
      "source": [
        "L1_ord = []\n",
        "L2_ord = []\n",
        "L3_ord = []\n",
        "\n",
        "m = 0\n",
        "while m < cad:\n",
        "    L1_ord.append(nueva[m])\n",
        "    L2_ord.append(nueva[m + 6])\n",
        "    L3_ord.append(nueva[m + 12])\n",
        "    m += 1"
      ],
      "metadata": {
        "id": "k-JA3Hd_hEXP"
      },
      "execution_count": 12,
      "outputs": []
    },
    {
      "cell_type": "code",
      "source": [
        "L1_ord"
      ],
      "metadata": {
        "colab": {
          "base_uri": "https://localhost:8080/"
        },
        "id": "FeNBEYzXhQT4",
        "outputId": "354e79da-f88a-4229-866f-d2b95cbc0a26"
      },
      "execution_count": 13,
      "outputs": [
        {
          "output_type": "execute_result",
          "data": {
            "text/plain": [
              "[5.6, 5.8, 6.1, 6.8, 6.8, 6.8]"
            ]
          },
          "metadata": {},
          "execution_count": 13
        }
      ]
    },
    {
      "cell_type": "code",
      "source": [
        "L2_ord"
      ],
      "metadata": {
        "colab": {
          "base_uri": "https://localhost:8080/"
        },
        "id": "j40XD7KShdFO",
        "outputId": "2c55cec7-7446-4e61-f3fe-d2a2e693df93"
      },
      "execution_count": 14,
      "outputs": [
        {
          "output_type": "execute_result",
          "data": {
            "text/plain": [
              "[7.2, 7.5, 7.7, 7.7, 7.8, 7.9]"
            ]
          },
          "metadata": {},
          "execution_count": 14
        }
      ]
    },
    {
      "cell_type": "code",
      "source": [
        "L3_ord"
      ],
      "metadata": {
        "colab": {
          "base_uri": "https://localhost:8080/"
        },
        "id": "1urJHlbthmGP",
        "outputId": "35c2bb6d-7676-489a-e35e-59d1bd7f0229"
      },
      "execution_count": 15,
      "outputs": [
        {
          "output_type": "execute_result",
          "data": {
            "text/plain": [
              "[8.0, 8.2, 8.2, 8.5, 9.0, 9.4]"
            ]
          },
          "metadata": {},
          "execution_count": 15
        }
      ]
    },
    {
      "cell_type": "markdown",
      "source": [
        "3._Crea una código que reciba del usuario nueve elementos de una matriz cuadrada de 3x3 y que retorne el determinante de la matriz."
      ],
      "metadata": {
        "id": "_Kq95dY5itj_"
      }
    },
    {
      "cell_type": "code",
      "source": [
        "import numpy as np"
      ],
      "metadata": {
        "id": "R094VxvLiH1r"
      },
      "execution_count": 16,
      "outputs": []
    },
    {
      "cell_type": "code",
      "source": [
        "print(\"Introduce los 9 elementos de una matriz 3x3 (fila por fila):\")\n",
        "\n",
        "# Leer los 9 números del usuario\n",
        "entrada = []\n",
        "for i in range(9):\n",
        "  num = float(input(f\"Entrada {i+1}: \"))\n",
        "  entrada.append(num)\n",
        "matriz = np.array(entrada).reshape((3, 3))\n",
        "\n",
        "print(matriz)\n",
        "\n",
        "# Calcular el determinante\n",
        "det = np.linalg.det(matriz)\n",
        "\n",
        "print(f\"El determinante es: {det}\")\n"
      ],
      "metadata": {
        "colab": {
          "base_uri": "https://localhost:8080/"
        },
        "id": "k9qoltpdhoH9",
        "outputId": "7d566161-90ea-4fb9-ae54-0c70e6f970fe"
      },
      "execution_count": 26,
      "outputs": [
        {
          "output_type": "stream",
          "name": "stdout",
          "text": [
            "Introduce los 9 elementos de una matriz 3x3 (fila por fila):\n",
            "Entrada 1: 1\n",
            "Entrada 2: 0\n",
            "Entrada 3: 0\n",
            "Entrada 4: 0\n",
            "Entrada 5: 1\n",
            "Entrada 6: 0\n",
            "Entrada 7: 0\n",
            "Entrada 8: 0\n",
            "Entrada 9: 1\n",
            "[[1. 0. 0.]\n",
            " [0. 1. 0.]\n",
            " [0. 0. 1.]]\n",
            "El determinante es: 1.0\n"
          ]
        }
      ]
    },
    {
      "cell_type": "markdown",
      "source": [
        "4._Crea un código que reciba una cadena de caracteres y arroje la respuesta de si es un estado ó una capital del país."
      ],
      "metadata": {
        "id": "V19fVEqEpYKT"
      }
    },
    {
      "cell_type": "code",
      "source": [
        "# Diccionario: capitales por estado\n",
        "estados_y_capitales = {\n",
        "    \"Aguascalientes\": \"Aguascalientes\",\n",
        "    \"Baja California\": \"Mexicali\",\n",
        "    \"Baja California Sur\": \"La Paz\",\n",
        "    \"Campeche\": \"San Francisco de Campeche\",\n",
        "    \"Chiapas\": \"Tuxtla Gutiérrez\",\n",
        "    \"Chihuahua\": \"Chihuahua\",\n",
        "    \"Ciudad de México\": \"Ciudad de México\",\n",
        "    \"Coahuila\": \"Saltillo\",\n",
        "    \"Colima\": \"Colima\",\n",
        "    \"Durango\": \"Victoria de Durango\",\n",
        "    \"Estado de México\": \"Toluca\",\n",
        "    \"Guanajuato\": \"Guanajuato\",\n",
        "    \"Guerrero\": \"Chilpancingo\",\n",
        "    \"Hidalgo\": \"Pachuca\",\n",
        "    \"Jalisco\": \"Guadalajara\",\n",
        "    \"Michoacán\": \"Morelia\",\n",
        "    \"Morelos\": \"Cuernavaca\",\n",
        "    \"Nayarit\": \"Tepic\",\n",
        "    \"Nuevo León\": \"Monterrey\",\n",
        "    \"Oaxaca\": \"Oaxaca\",\n",
        "    \"Puebla\": \"Puebla\",\n",
        "    \"Querétaro\": \"Santiago de Querétaro\",\n",
        "    \"Quintana Roo\": \"Chetumal\",\n",
        "    \"San Luis Potosí\": \"San Luis Potosí\",\n",
        "    \"Sinaloa\": \"Culiacán\",\n",
        "    \"Sonora\": \"Hermosillo\",\n",
        "    \"Tabasco\": \"Villahermosa\",\n",
        "    \"Tamaulipas\": \"Ciudad Victoria\",\n",
        "    \"Tlaxcala\": \"Tlaxcala\",\n",
        "    \"Veracruz\": \"Xalapa\",\n",
        "    \"Yucatán\": \"Mérida\",\n",
        "    \"Zacatecas\": \"Zacatecas\"\n",
        "}\n",
        "\n",
        "# El usuario proporciona un nombre\n",
        "entrada = input(\"Ingresa un nombre: \").strip()\n",
        "\n",
        "# Normalizar para comparación\n",
        "entrada_normalizada = entrada.lower()\n",
        "\n",
        "# Buscar el lugar del nombre proporcionado\n",
        "es_estado = False\n",
        "es_capital = False\n",
        "\n",
        "for estado, capital in estados_y_capitales.items():\n",
        "    if entrada_normalizada == estado.lower():\n",
        "        es_estado = True\n",
        "    if entrada_normalizada == capital.lower():\n",
        "        es_capital = True\n",
        "\n",
        "#Tiene 4 opciones\n",
        "if es_estado and es_capital:\n",
        "    print(f\"{entrada} es estado y capital.\")\n",
        "elif es_estado:\n",
        "    print(f\"{entrada} es un estado.\")\n",
        "elif es_capital:\n",
        "    print(f\"{entrada} es una capital.\")\n",
        "else:\n",
        "    print(f\"{entrada} no es ni estado ni capital.\")\n"
      ],
      "metadata": {
        "colab": {
          "base_uri": "https://localhost:8080/"
        },
        "id": "JSxXgfsgQXiB",
        "outputId": "2acbb1b2-c3ab-43b2-af59-ca469d09e183"
      },
      "execution_count": 27,
      "outputs": [
        {
          "output_type": "stream",
          "name": "stdout",
          "text": [
            "Ingresa un nombre: peru\n",
            "peru no es ni estado ni capital.\n"
          ]
        }
      ]
    },
    {
      "cell_type": "markdown",
      "source": [
        "5._Pide al usuario dos listas de números reales (misma longitud) y calcula su producto escalar usando un bucle for."
      ],
      "metadata": {
        "id": "jGMge33d9nWu"
      }
    },
    {
      "cell_type": "code",
      "source": [
        "# Pedir al usuario la longitud de las listas\n",
        "n = int(input(\"¿Cuántos elementos tendran las listas? \"))\n",
        "\n",
        "# Pedir los elementos de la primera lista\n",
        "print(\"Introduce los elementos de la primera lista:\")\n",
        "lista_1 = []\n",
        "for i in range(n):\n",
        "    x = float(input(f\"Elemento {i+1}: \"))\n",
        "    lista_1.append(x)\n",
        "\n",
        "# Pedir los elementos de la segunda lista\n",
        "print(\"Introduce los elementos de la segunda lista:\")\n",
        "lista_2 = []\n",
        "for i in range(n):\n",
        "    y = float(input(f\"Elemento {i+1}: \"))\n",
        "    lista_2.append(y)\n",
        "\n",
        "# Calcular el producto escalar\n",
        "producto_escalar = 0\n",
        "for i in range(n):\n",
        "    producto_escalar += lista_1[i] * lista_2[i]\n",
        "\n",
        "print(f\"\\nEl producto escalar  es: {producto_escalar}\")\n"
      ],
      "metadata": {
        "id": "LtTDaBQ1PEwC",
        "colab": {
          "base_uri": "https://localhost:8080/"
        },
        "outputId": "4a6da1f8-3cfe-443b-d8da-5ec038f4d1c0"
      },
      "execution_count": 28,
      "outputs": [
        {
          "output_type": "stream",
          "name": "stdout",
          "text": [
            "¿Cuántos elementos tendran las listas? 1\n",
            "Introduce los elementos de la primera lista:\n",
            "Elemento 1: 1\n",
            "Introduce los elementos de la segunda lista:\n",
            "Elemento 1: 2\n",
            "\n",
            "El producto escalar  es: 2.0\n"
          ]
        }
      ]
    },
    {
      "cell_type": "markdown",
      "source": [
        "6._Utiliza un bucle while True para pedir números al usuario y agregarlos a una lista. Cuando la suma total de los elementos sea mayor a 100, el programa debe detenerse y mostrar la lista y la suma final."
      ],
      "metadata": {
        "id": "cbE7kv6b-s0W"
      }
    },
    {
      "cell_type": "code",
      "source": [
        "numeros = []\n",
        "suma_total = 0\n",
        "\n",
        "print(\"Ingresa números. El programa se detendrá cuando la suma supere 100.\")\n",
        "\n",
        "while True:\n",
        "    num = float(input(\"Número: \"))\n",
        "    numeros.append(num)\n",
        "    suma_total += num\n",
        "\n",
        "    if suma_total > 100:\n",
        "        break\n",
        "\n",
        "print(\"\\nSuma total:\", suma_total)\n",
        "print(\"Lista de números ingresados:\", numeros)\n"
      ],
      "metadata": {
        "colab": {
          "base_uri": "https://localhost:8080/"
        },
        "id": "YMqaXWCY-sZq",
        "outputId": "cdb3539a-e478-4af9-fd86-b917cae10ff0"
      },
      "execution_count": 22,
      "outputs": [
        {
          "output_type": "stream",
          "name": "stdout",
          "text": [
            "Ingresa números. El programa se detendrá cuando la suma supere 100.\n",
            "Número: 13\n",
            "Número: 15\n",
            "Número: 65\n",
            "Número: 20\n",
            "\n",
            "Suma total: 113.0\n",
            "Lista de números ingresados: [13.0, 15.0, 65.0, 20.0]\n"
          ]
        }
      ]
    },
    {
      "cell_type": "markdown",
      "source": [
        "7._Crea una lista vacía y presenta al usuario un menú como este dentro de un while True:"
      ],
      "metadata": {
        "id": "t1UNkdlH_J2z"
      }
    },
    {
      "cell_type": "code",
      "source": [
        "lista = []\n",
        "\n",
        "while True:\n",
        "    print(\"\\nMenú:\")\n",
        "    print(\"1. Agregar número\")\n",
        "    print(\"2. Mostrar lista\")\n",
        "    print(\"3. Salir\")\n",
        "\n",
        "    opcion = input(\"Seleccione una opción: \")\n",
        "\n",
        "    if opcion == \"1\":\n",
        "        numero = float(input(\"Ingrese un número: \"))\n",
        "        lista.append(numero)\n",
        "        print(\"Número agregado.\")\n",
        "    elif opcion == \"2\":\n",
        "        print(\"Lista actual:\", lista)\n",
        "    elif opcion == \"3\":\n",
        "        print(\"Saliendo del programa.\")\n",
        "        break\n",
        "    else:\n",
        "        print(\"Opción no válida. Intente de nuevo.\")\n"
      ],
      "metadata": {
        "colab": {
          "base_uri": "https://localhost:8080/"
        },
        "id": "76BNPiSW_RbC",
        "outputId": "34b4ccc2-ba29-4ebf-c35c-2899a9a43d54"
      },
      "execution_count": 29,
      "outputs": [
        {
          "output_type": "stream",
          "name": "stdout",
          "text": [
            "\n",
            "Menú:\n",
            "1. Agregar número\n",
            "2. Mostrar lista\n",
            "3. Salir\n",
            "Seleccione una opción: 3\n",
            "Saliendo del programa.\n"
          ]
        }
      ]
    }
  ]
}